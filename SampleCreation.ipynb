{
 "cells": [
  {
   "cell_type": "markdown",
   "metadata": {},
   "source": [
    "# Create a test collection from self-written images"
   ]
  },
  {
   "cell_type": "code",
   "execution_count": 1,
   "metadata": {},
   "outputs": [],
   "source": [
    "# Libraries\n",
    "import numpy as np\n",
    "import pandas as pd\n",
    "from PIL import Image\n",
    "import glob\n",
    "import os"
   ]
  },
  {
   "cell_type": "code",
   "execution_count": 2,
   "metadata": {},
   "outputs": [],
   "source": [
    "# Globel names\n",
    "folder_name = \"datasets\"\n",
    "subfolder_names = {\n",
    "    0: \"0\",\n",
    "    1: \"1\",\n",
    "    2: \"2\",\n",
    "    3: \"3\",\n",
    "    4: \"4\",\n",
    "    5: \"5\",\n",
    "    6: \"6\",\n",
    "    7: \"7\",\n",
    "    8: \"8\",\n",
    "    9: \"9\"\n",
    "}"
   ]
  },
  {
   "cell_type": "code",
   "execution_count": 3,
   "metadata": {},
   "outputs": [],
   "source": [
    "# Create a new test dataset\n",
    "test_dataset = []\n",
    "\n",
    "for digit, name in subfolder_names.items():\n",
    "    # Get true directory path\n",
    "    directory_path = os.path.join(folder_name, name)\n",
    "    # Traverse individual files\n",
    "    for file in os.listdir(directory_path):\n",
    "        # Get true image\n",
    "        image_path = os.path.join(directory_path, file)\n",
    "        # Read image\n",
    "        image = Image.open(image_path)\n",
    "        # Change to array\n",
    "        image_as_matrix = np.asarray(image).astype(int)\n",
    "        image_as_array = np.reshape(image_as_matrix, -1)\n",
    "        image_as_list = image_as_array.tolist()\n",
    "        # Create a dummy array which denotes what digit our image is\n",
    "        dummy_array = [0 for _ in range(10)]\n",
    "        dummy_array[digit] = 1\n",
    "        # Append those two to create a row\n",
    "        image_as_list.extend(dummy_array)\n",
    "        # Append to test_dataste\n",
    "        test_dataset.append(image_as_list)\n",
    "        \n",
    "# Finally we convert it into np array\n",
    "test_dataset = np.array(test_dataset)"
   ]
  },
  {
   "cell_type": "code",
   "execution_count": 4,
   "metadata": {},
   "outputs": [],
   "source": [
    "# Optional -> Save the test set\n",
    "np.savetxt(\"created.data\", test_dataset, delimiter=\" \", newline=\"\\n\")"
   ]
  },
  {
   "cell_type": "code",
   "execution_count": 5,
   "metadata": {},
   "outputs": [
    {
     "data": {
      "text/plain": [
       "(259, 266)"
      ]
     },
     "execution_count": 5,
     "metadata": {},
     "output_type": "execute_result"
    }
   ],
   "source": [
    "test_dataset.shape"
   ]
  }
 ],
 "metadata": {
  "kernelspec": {
   "display_name": "Python 3",
   "language": "python",
   "name": "python3"
  },
  "language_info": {
   "codemirror_mode": {
    "name": "ipython",
    "version": 3
   },
   "file_extension": ".py",
   "mimetype": "text/x-python",
   "name": "python",
   "nbconvert_exporter": "python",
   "pygments_lexer": "ipython3",
   "version": "3.7.6"
  }
 },
 "nbformat": 4,
 "nbformat_minor": 4
}
